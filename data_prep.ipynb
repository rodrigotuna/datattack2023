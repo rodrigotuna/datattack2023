{
 "cells": [
  {
   "cell_type": "code",
   "execution_count": 1,
   "metadata": {},
   "outputs": [],
   "source": [
    "# Imports\n",
    "import pandas as pd\n",
    "\n",
    "def read_dataset(year):\n",
    "    # Read the database .CSV\n",
    "    df = pd.read_csv(\n",
    "        f'https://raw.githubusercontent.com/centraldedados/protecao_civil/master/data/anpc-{year}.csv', \n",
    "        sep = ',', \n",
    "        on_bad_lines='skip'\n",
    "    )\n",
    "\n",
    "    # We replace the \",\" with \".\" to facilitate processing\n",
    "    df['Latitude'] = pd.to_numeric(\n",
    "        df['Latitude'].str.replace(',', '.')\n",
    "    )\n",
    "    df['Longitude'] = pd.to_numeric(\n",
    "        df['Longitude'].str.replace(',', '.')\n",
    "    )\n",
    "    return df"
   ]
  },
  {
   "cell_type": "code",
   "execution_count": 2,
   "metadata": {},
   "outputs": [
    {
     "name": "stderr",
     "output_type": "stream",
     "text": [
      "/tmp/ipykernel_3430/3896029409.py:6: DtypeWarning: Columns (0) have mixed types. Specify dtype option on import or set low_memory=False.\n",
      "  df = pd.read_csv(\n",
      "/tmp/ipykernel_3430/3896029409.py:6: DtypeWarning: Columns (0) have mixed types. Specify dtype option on import or set low_memory=False.\n",
      "  df = pd.read_csv(\n"
     ]
    }
   ],
   "source": [
    "occ = pd.concat([read_dataset(2016),read_dataset(2017),read_dataset(2018)])"
   ]
  },
  {
   "cell_type": "code",
   "execution_count": 3,
   "metadata": {},
   "outputs": [],
   "source": [
    "occ['DataOcorrencia'] = pd.to_datetime(occ['DataOcorrencia'], format='%d/%m/%Y %H:%M:%S', errors='coerce') \n",
    "occ['DataFechoOperacional'] = pd.to_datetime(occ['DataFechoOperacional'], format='%d/%m/%Y %H:%M:%S', errors='coerce')\n",
    "\n",
    "occ['Date'] = occ['DataOcorrencia'].dt.date\n",
    "occ = occ.dropna(subset=[\"DataOcorrencia\", \"Latitude\"])\n",
    "occ = occ.loc[occ['NumeroOperacionaisTerrestresEnvolvidos'] < 2000]\n",
    "occ.loc[occ['Latitude'] > 43, 'Latitude']/=1000\n",
    "occ.loc[occ['Longitude'] > 0, 'Longitude']*=-1\n",
    "occ.loc[occ['Longitude'] < -1000, 'Longitude']/=1000"
   ]
  },
  {
   "cell_type": "code",
   "execution_count": 4,
   "metadata": {},
   "outputs": [
    {
     "name": "stdout",
     "output_type": "stream",
     "text": [
      "-8.756731 42.222705\n",
      "-68.58389 -6.195511\n"
     ]
    }
   ],
   "source": [
    "print(occ['Latitude'].min(), occ['Latitude'].max())\n",
    "print(occ['Longitude'].min(), occ['Longitude'].max())"
   ]
  },
  {
   "cell_type": "code",
   "execution_count": 5,
   "metadata": {},
   "outputs": [],
   "source": [
    "import datetime\n",
    "occ = occ.loc[(occ['Longitude'] < -6) & (occ['Longitude'] > -10) & (occ['Latitude']<43) & (occ['Latitude'] > 36)]\n",
    "occ = occ.loc[occ['Date'] >= datetime.date(year=2016,month=5,day=11)]"
   ]
  },
  {
   "cell_type": "code",
   "execution_count": 6,
   "metadata": {},
   "outputs": [
    {
     "name": "stderr",
     "output_type": "stream",
     "text": [
      "/tmp/ipykernel_3430/2563666170.py:7: FutureWarning: In a future version of pandas, a length 1 tuple will be returned when iterating over a groupby with a grouper equal to a list of length 1. Don't supply a list with a single grouper to avoid this warning.\n",
      "  for _, d in occ.groupby(['Date']):\n"
     ]
    },
    {
     "name": "stdout",
     "output_type": "stream",
     "text": [
      "(965, 22, 64, 1)\n"
     ]
    }
   ],
   "source": [
    "import numpy as np\n",
    "\n",
    "data = []\n",
    "minX, minY, maxX, maxY = occ['Latitude'].min(), occ['Longitude'].min(),  occ['Latitude'].max(), occ['Longitude'].max()\n",
    "square_size = 0.25\n",
    "\n",
    "for id, d in occ.groupby(['Date']):\n",
    "    print(\"Working on\", id)\n",
    "    grid = []\n",
    "    for x in np.arange(minX, maxX + square_size,square_size):\n",
    "        line = []\n",
    "        for y in np.arange(minY, maxY+ square_size, square_size):\n",
    "            feature = []\n",
    "            grid_date_df = d.loc[(d['Latitude'] >= x)& (d['Latitude'] < x+square_size) & (d['Longitude'] >= y) & (d['Longitude'] < y+square_size)]\n",
    "            for col in ['NumeroMeiosTerrestresEnvolvidos', 'NumeroOperacionaisTerrestresEnvolvidos', 'NumeroMeiosAereosEnvolvidos','NumeroOperacionaisAereosEnvolvidos']:\n",
    "                aggre = grid_date_df.agg({col : ['sum']})\n",
    "                aggre.columns = ['F1']\n",
    "                feature.append(aggre['F1'])\n",
    "            line.append(feature)\n",
    "        grid.append(line)\n",
    "    data.append(grid)\n",
    "\n",
    "arr_np = np.array(data)\n",
    "print(arr_np.shape)"
   ]
  },
  {
   "cell_type": "code",
   "execution_count": 7,
   "metadata": {},
   "outputs": [],
   "source": [
    "with open('data.npy', 'wb') as f:\n",
    "    np.save(f, arr_np)"
   ]
  }
 ],
 "metadata": {
  "kernelspec": {
   "display_name": "Python 3",
   "language": "python",
   "name": "python3"
  },
  "language_info": {
   "codemirror_mode": {
    "name": "ipython",
    "version": 3
   },
   "file_extension": ".py",
   "mimetype": "text/x-python",
   "name": "python",
   "nbconvert_exporter": "python",
   "pygments_lexer": "ipython3",
   "version": "3.10.8"
  },
  "orig_nbformat": 4
 },
 "nbformat": 4,
 "nbformat_minor": 2
}
